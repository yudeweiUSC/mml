{
  "nbformat": 4,
  "nbformat_minor": 0,
  "metadata": {
    "colab": {
      "provenance": [],
      "authorship_tag": "ABX9TyPwIXHBx1JrqFRd8PbquEWs",
      "include_colab_link": true
    },
    "kernelspec": {
      "name": "python3",
      "display_name": "Python 3"
    },
    "language_info": {
      "name": "python"
    }
  },
  "cells": [
    {
      "cell_type": "markdown",
      "metadata": {
        "id": "view-in-github",
        "colab_type": "text"
      },
      "source": [
        "<a href=\"https://colab.research.google.com/github/yudeweiUSC/mml/blob/main/Untitled0.ipynb\" target=\"_parent\"><img src=\"https://colab.research.google.com/assets/colab-badge.svg\" alt=\"Open In Colab\"/></a>"
      ]
    },
    {
      "cell_type": "code",
      "execution_count": 10,
      "metadata": {
        "colab": {
          "base_uri": "https://localhost:8080/"
        },
        "id": "QScS-7921vJK",
        "outputId": "56841fd5-c376-471f-8c4d-52e31c0f3729"
      },
      "outputs": [
        {
          "output_type": "stream",
          "name": "stdout",
          "text": [
            "Looking in indexes: https://pypi.org/simple, https://us-python.pkg.dev/colab-wheels/public/simple/\n",
            "Requirement already satisfied: mxnet in /usr/local/lib/python3.7/dist-packages (1.9.1)\n",
            "Requirement already satisfied: requests<3,>=2.20.0 in /usr/local/lib/python3.7/dist-packages (from mxnet) (2.23.0)\n",
            "Requirement already satisfied: graphviz<0.9.0,>=0.8.1 in /usr/local/lib/python3.7/dist-packages (from mxnet) (0.8.4)\n",
            "Requirement already satisfied: numpy<2.0.0,>1.16.0 in /usr/local/lib/python3.7/dist-packages (from mxnet) (1.21.6)\n",
            "Requirement already satisfied: chardet<4,>=3.0.2 in /usr/local/lib/python3.7/dist-packages (from requests<3,>=2.20.0->mxnet) (3.0.4)\n",
            "Requirement already satisfied: certifi>=2017.4.17 in /usr/local/lib/python3.7/dist-packages (from requests<3,>=2.20.0->mxnet) (2022.6.15)\n",
            "Requirement already satisfied: urllib3!=1.25.0,!=1.25.1,<1.26,>=1.21.1 in /usr/local/lib/python3.7/dist-packages (from requests<3,>=2.20.0->mxnet) (1.24.3)\n",
            "Requirement already satisfied: idna<3,>=2.5 in /usr/local/lib/python3.7/dist-packages (from requests<3,>=2.20.0->mxnet) (2.10)\n"
          ]
        }
      ],
      "source": [
        "!pip install mxnet"
      ]
    },
    {
      "cell_type": "code",
      "source": [
        "from IPython import display\n",
        "from mxnet import autograd, nd\n",
        "import random"
      ],
      "metadata": {
        "id": "cLAvBRBt10l1"
      },
      "execution_count": 11,
      "outputs": []
    },
    {
      "cell_type": "code",
      "source": [
        "num_inputs = 2\n",
        "num_examples = 1000\n",
        "true_w = [2, -3.4]\n",
        "true_b = 4.2\n",
        "features = nd.random.normal(scale=1, shape=(num_examples, num_inputs))\n",
        "labels = true_w[0] * features[:, 0] + true_w[1] * features[:, 1] + true_b\n",
        "labels += nd.random.normal(scale=0.01, shape=labels.shape)"
      ],
      "metadata": {
        "id": "l8cLqLCe1_j9"
      },
      "execution_count": 12,
      "outputs": []
    },
    {
      "cell_type": "code",
      "source": [
        "# def use_svg_display():\n",
        "#     # 用矢量图显示\n",
        "#     display.set_matplotlib_formats('svg')\n",
        "\n",
        "\n",
        "\n",
        "# %matplotlib inline\n",
        "# from IPython import display\n",
        "# from matplotlib import pyplot as plt\n",
        "# from mxnet import autograd, nd\n",
        "# def set_figsize(figsize=(3.5, 2.5)):\n",
        "#     use_svg_display()\n",
        "#     # 设置图的尺寸\n",
        "#     plt.rcParams['figure.figsize'] = figsize\n",
        "\n",
        "# set_figsize()\n",
        "# plt.scatter(features[:, 1].asnumpy(), labels.asnumpy(), 1);  # 加分号只显示图\n",
        "# plt.scatter(features[:, 0].asnumpy(), labels.asnumpy(), 1);  # 加分号只显示图"
      ],
      "metadata": {
        "id": "IR_eZm3En-5n"
      },
      "execution_count": 13,
      "outputs": []
    },
    {
      "cell_type": "code",
      "source": [
        "# def data_iter(batch_size, features, labels):\n",
        "#   num_examples = len(features)\n",
        "#   indices = list(range(num_examples))\n",
        "#   random.shuffle(indices)\n",
        "#   for i in range(0, num_examples, batch_size):\n",
        "#     j = nd.array(indices[i : min(i + batch_size, num_examples)])\n",
        "#     yield features.take(j), labels.take(j)\n",
        "\n",
        "batch_size = 10\n",
        "\n",
        "from mxnet.gluon import data as gdata\n",
        "\n",
        "dataset = gdata.ArrayDataset(features, labels)\n",
        "data_iter = gdata.DataLoader(dataset, batch_size, shuffle=True)"
      ],
      "metadata": {
        "id": "eoCULPabqaVU"
      },
      "execution_count": 14,
      "outputs": []
    },
    {
      "cell_type": "code",
      "source": [
        "# w = nd.random.normal(scale=0.01, shape=(num_inputs, 1))\n",
        "# b = nd.random.normal(shape=(1,))\n",
        "\n",
        "# w.attach_grad()\n",
        "# b.attach_grad()"
      ],
      "metadata": {
        "id": "A2aVB_9_5unY"
      },
      "execution_count": 15,
      "outputs": []
    },
    {
      "cell_type": "code",
      "source": [
        "# def linreg(X, w, b):  # 本函数已保存在d2lzh包中方便以后使用\n",
        "#   return nd.dot(X, w) + b\n",
        "\n",
        "# def squared_loss(y_hat, y):  # 本函数已保存在d2lzh包中方便以后使用\n",
        "#   return (y_hat - y.reshape(y_hat.shape)) ** 2 / 2\n",
        "\n",
        "# def sgd(params, lr, batch_size):  # 本函数已保存在d2lzh包中方便以后使用\n",
        "#   for param in params:\n",
        "#     param[:] = param - lr * param.grad / batch_size"
      ],
      "metadata": {
        "id": "kQ7HHSLobmJM"
      },
      "execution_count": 16,
      "outputs": []
    },
    {
      "cell_type": "code",
      "source": [
        "lr = 0.03\n",
        "num_epochs = 3\n",
        "# net = linreg\n",
        "# loss = squared_loss\n",
        "\n",
        "from mxnet.gluon import nn\n",
        "from mxnet import init\n",
        "from mxnet.gluon import loss as gloss\n",
        "from mxnet import gluon\n",
        "\n",
        "net = nn.Sequential()\n",
        "net.add(nn.Dense(1))\n",
        "net.initialize(init.Normal(sigma=0.01))\n",
        "loss = gloss.L2Loss()  # 平方损失又称L2范数损失\n",
        "trainer = gluon.Trainer(net.collect_params(), 'sgd', {'learning_rate': lr})"
      ],
      "metadata": {
        "id": "VRRH0Z59Vgcf"
      },
      "execution_count": 17,
      "outputs": []
    },
    {
      "cell_type": "code",
      "source": [
        "\n",
        "for epoch in range(num_epochs):\n",
        "  # for X, y in data_iter(batch_size, features, labels):\n",
        "  for X, y in data_iter:\n",
        "    with autograd.record():\n",
        "      # l = loss(net(X, w, b), y)\n",
        "      l = loss(net(X), y)\n",
        "    l.backward()\n",
        "    trainer.step(batch_size)\n",
        "    # sgd([w, b], lr, batch_size)\n",
        "    l = loss(net(features), labels)"
      ],
      "metadata": {
        "id": "VRHnZ8VPloBU"
      },
      "execution_count": 18,
      "outputs": []
    },
    {
      "cell_type": "code",
      "source": [
        "# true_b, b, true_w, w\n",
        "true_b, net[0].bias.data(), true_w, net[0].weight.data()"
      ],
      "metadata": {
        "colab": {
          "base_uri": "https://localhost:8080/"
        },
        "id": "9GsoGN-rnIlh",
        "outputId": "da2d2e40-f61b-411d-ec0a-988e271f4ca9"
      },
      "execution_count": 19,
      "outputs": [
        {
          "output_type": "execute_result",
          "data": {
            "text/plain": [
              "(4.2, \n",
              " [4.1994414]\n",
              " <NDArray 1 @cpu(0)>, [2, -3.4], \n",
              " [[ 2.0001698 -3.4005036]]\n",
              " <NDArray 1x2 @cpu(0)>)"
            ]
          },
          "metadata": {},
          "execution_count": 19
        }
      ]
    },
    {
      "cell_type": "code",
      "source": [],
      "metadata": {
        "id": "7sobeT9anMpW"
      },
      "execution_count": 19,
      "outputs": []
    }
  ]
}